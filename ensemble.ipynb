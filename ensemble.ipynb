{
 "cells": [
  {
   "cell_type": "code",
   "execution_count": 58,
   "metadata": {},
   "outputs": [],
   "source": [
    "import warnings\n",
    "warnings.filterwarnings('ignore')\n",
    "\n",
    "import pandas                        as pd\n",
    "import numpy                         as np\n",
    "import matplotlib.pyplot             as plt\n",
    "%matplotlib inline\n",
    "import seaborn                       as sns\n",
    "\n",
    "from sklearn                         import preprocessing\n",
    "from sklearn.preprocessing           import normalize,StandardScaler,label\n",
    "from sklearn.model_selection         import train_test_split,GridSearchCV,RandomizedSearchCV\n",
    "from sklearn.metrics                 import *\n",
    "\n",
    "# ML Libraries\n",
    "\n",
    "from sklearn.ensemble                import RandomForestClassifier\n",
    "from sklearn.decomposition           import PCA\n",
    "from xgboost                         import XGBClassifier\n",
    "from sklearn.linear_model            import LogisticRegression\n",
    "from lightgbm                        import LGBMClassifier\n",
    "from sklearn.tree                    import DecisionTreeClassifier\n",
    "from sklearn.neighbors               import KNeighborsClassifier\n",
    "\n",
    "from sklearn import datasets\n",
    "\n",
    "# Dataset\n",
    "\n",
    "breast_cancer = datasets.load_breast_cancer()\n",
    "X = breast_cancer.data\n",
    "y = breast_cancer.target"
   ]
  },
  {
   "cell_type": "code",
   "execution_count": 59,
   "metadata": {},
   "outputs": [],
   "source": [
    "X_train, X_test, y_train, y_test = train_test_split(X, y, test_size=0.20, random_state=7,shuffle=True)"
   ]
  },
  {
   "cell_type": "code",
   "execution_count": 60,
   "metadata": {},
   "outputs": [],
   "source": [
    "#listing out the different ML Algorithms\n",
    "models = []\n",
    "models.append(('Random Forest with Entropy', RandomForestClassifier(criterion= \"entropy\", random_state= 111)))\n",
    "models.append(('Random Forest with gini', RandomForestClassifier(criterion= \"gini\", random_state= 111)))\n",
    "models.append(('XGBoost', XGBClassifier()))\n",
    "models.append(('LGBM', LGBMClassifier()))\n",
    "models.append(('DecisionTree with entropy', DecisionTreeClassifier(criterion= \"entropy\", random_state= 101)))\n",
    "models.append(('DecisionTree with gini', DecisionTreeClassifier(criterion= \"gini\", random_state= 101)))\n",
    "models.append(('Logistic Regression', LogisticRegression(random_state= 7)))\n",
    "models.append(('KNN', KNeighborsClassifier(n_neighbors=10)))"
   ]
  },
  {
   "cell_type": "code",
   "execution_count": 61,
   "metadata": {},
   "outputs": [],
   "source": [
    "#Predefined ROC Function\n",
    "def ROCcurve(fpr, tpr):\n",
    "    plt.figure()\n",
    "    lw = 2\n",
    "    plt.plot(fpr, tpr, color='darkorange',\n",
    "             lw=lw, label='ROC curve (area = %0.2f)' % auc(fpr, tpr))\n",
    "    plt.plot([0, 1], [0, 1], color='navy', lw=lw, linestyle='--')\n",
    "    plt.xlabel('False Positive Rate')\n",
    "    plt.ylabel('True Positive Rate')\n",
    "    plt.title('Receiver operating characteristic')\n",
    "    plt.legend(loc=\"lower right\")\n",
    "    return (plt.show())"
   ]
  },
  {
   "cell_type": "code",
   "execution_count": 62,
   "metadata": {},
   "outputs": [],
   "source": [
    "# Checking with Multiple accuracy metrics and check for Overfitting\n",
    "def allmodels():\n",
    "    model_list = pd.DataFrame(columns=(\"Model\",\"Accuracy\",\"F1Score\",\"AUC\"))\n",
    "    rownumber = 0\n",
    "    for name, model in models:\n",
    "        classifier = model\n",
    "        classifier.fit(X_train, y_train)\n",
    "        # prediction\n",
    "        Y_predict = classifier.predict(X_test)\n",
    "        #ROCcurve(fpr, tpr)\n",
    "        model_list.loc[rownumber,\"Model\"]= name\n",
    "        model_list.loc[rownumber,\"Accuracy\"] = round(((accuracy_score(y_test,Y_predict))*100))\n",
    "        model_list.loc[rownumber,\"F1Score\"]= round((f1_score(y_test,Y_predict)),2)\n",
    "        model_list.loc[rownumber,\"AUC\"]= round((roc_auc_score(y_test,Y_predict)),2)\n",
    "        Y_pt = classifier.predict(X_train)\n",
    "        model_list.loc[rownumber,\"Accuracy_Train\"] = round(((accuracy_score(y_train,Y_pt))*100))\n",
    "        model_list.loc[rownumber,\"F1Score_Train\"]= round((f1_score(y_train,Y_pt)),2)\n",
    "        model_list.loc[rownumber,\"AUC_Train\"]= round((roc_auc_score(y_train,Y_pt)),2)\n",
    "        rownumber += 1\n",
    "    return (model_list.sort_values(by=\"AUC\",ascending=False))"
   ]
  },
  {
   "cell_type": "code",
   "execution_count": 63,
   "metadata": {},
   "outputs": [
    {
     "name": "stdout",
     "output_type": "stream",
     "text": [
      "                        Model  Accuracy F1Score   AUC  Accuracy_Train  \\\n",
      "0  Random Forest with Entropy      96.0    0.97  0.96           100.0   \n",
      "2                     XGBoost      97.0    0.98  0.96           100.0   \n",
      "3                        LGBM      97.0    0.98  0.96           100.0   \n",
      "1     Random Forest with gini      95.0    0.96  0.94           100.0   \n",
      "4   DecisionTree with entropy      96.0    0.97  0.94           100.0   \n",
      "6         Logistic Regression      95.0    0.96  0.92            96.0   \n",
      "7                         KNN      94.0    0.95  0.92            94.0   \n",
      "5      DecisionTree with gini      90.0    0.93  0.88           100.0   \n",
      "\n",
      "   F1Score_Train  AUC_Train  \n",
      "0           1.00       1.00  \n",
      "2           1.00       1.00  \n",
      "3           1.00       1.00  \n",
      "1           1.00       1.00  \n",
      "4           1.00       1.00  \n",
      "6           0.97       0.96  \n",
      "7           0.95       0.93  \n",
      "5           1.00       1.00  \n"
     ]
    }
   ],
   "source": [
    "#Check for any overfitting\n",
    "print (allmodels())"
   ]
  },
  {
   "cell_type": "code",
   "execution_count": null,
   "metadata": {},
   "outputs": [],
   "source": []
  }
 ],
 "metadata": {
  "kernelspec": {
   "display_name": "Python 3",
   "language": "python",
   "name": "python3"
  },
  "language_info": {
   "codemirror_mode": {
    "name": "ipython",
    "version": 3
   },
   "file_extension": ".py",
   "mimetype": "text/x-python",
   "name": "python",
   "nbconvert_exporter": "python",
   "pygments_lexer": "ipython3",
   "version": "3.7.4"
  }
 },
 "nbformat": 4,
 "nbformat_minor": 4
}
