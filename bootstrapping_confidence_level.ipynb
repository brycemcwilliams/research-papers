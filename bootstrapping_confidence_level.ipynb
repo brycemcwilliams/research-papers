{
 "cells": [
  {
   "cell_type": "code",
   "execution_count": 1,
   "metadata": {},
   "outputs": [],
   "source": [
    "from pandas import read_csv\n",
    "from sklearn.utils import resample\n",
    "from sklearn.tree import DecisionTreeClassifier\n",
    "from sklearn.metrics import accuracy_score\n",
    "from matplotlib import pyplot\n",
    "import numpy as np\n",
    "\n",
    "# load dataset\n",
    "data = read_csv('pima-indians-diabetes.data.csv')\n",
    "values = data.values"
   ]
  },
  {
   "cell_type": "code",
   "execution_count": 2,
   "metadata": {},
   "outputs": [
    {
     "name": "stdout",
     "output_type": "stream",
     "text": [
      "0.6961206896551724\n",
      "0.6924731182795699\n",
      "0.673202614379085\n",
      "0.7251082251082251\n",
      "0.6827133479212254\n",
      "0.70020964360587\n",
      "0.6953781512605042\n",
      "0.6730769230769231\n",
      "0.6941964285714286\n",
      "0.7154989384288747\n",
      "0.6924731182795699\n",
      "0.709051724137931\n",
      "0.7245119305856833\n",
      "0.6478260869565218\n",
      "0.7172995780590717\n",
      "0.6631130063965884\n",
      "0.7188841201716738\n",
      "0.6949891067538126\n",
      "0.6995708154506438\n",
      "0.684322033898305\n",
      "0.665938864628821\n",
      "0.632258064516129\n",
      "0.6739130434782609\n",
      "0.6666666666666666\n",
      "0.6709129511677282\n",
      "0.7083333333333334\n",
      "0.6938325991189427\n",
      "0.6825053995680346\n",
      "0.6857749469214437\n",
      "0.7270742358078602\n",
      "0.7307692307692307\n",
      "0.6723768736616702\n",
      "0.7118279569892473\n",
      "0.670995670995671\n",
      "0.6717391304347826\n",
      "0.707983193277311\n",
      "0.6946236559139785\n",
      "0.6622807017543859\n",
      "0.6826722338204593\n",
      "0.7217573221757322\n",
      "0.6630434782608695\n",
      "0.7062634989200864\n",
      "0.7070484581497798\n",
      "0.6991525423728814\n",
      "0.693446088794926\n",
      "0.6848739495798319\n",
      "0.7323340471092077\n",
      "0.6826086956521739\n",
      "0.6702819956616052\n",
      "0.7086956521739131\n",
      "0.6274089935760171\n",
      "0.6909871244635193\n",
      "0.6762114537444934\n",
      "0.7366167023554604\n",
      "0.6898047722342733\n",
      "0.7130434782608696\n",
      "0.7037037037037037\n",
      "0.7263157894736842\n",
      "0.6863157894736842\n",
      "0.6666666666666666\n",
      "0.7239130434782609\n",
      "0.7043478260869566\n",
      "0.7015250544662309\n",
      "0.69593147751606\n",
      "0.6902654867256637\n",
      "0.6861471861471862\n",
      "0.7456521739130435\n",
      "0.6876355748373102\n",
      "0.6985138004246284\n",
      "0.6751592356687898\n",
      "0.7198275862068966\n",
      "0.6652719665271967\n",
      "0.7130242825607064\n",
      "0.6903225806451613\n",
      "0.6877729257641921\n",
      "0.6978260869565217\n",
      "0.6501079913606912\n",
      "0.6914893617021277\n",
      "0.6811279826464208\n",
      "0.6810344827586207\n",
      "0.6780383795309168\n",
      "0.6872340425531915\n",
      "0.6997885835095138\n",
      "0.7029914529914529\n",
      "0.6306695464362851\n",
      "0.7006507592190889\n",
      "0.6616379310344828\n",
      "0.6984815618221258\n",
      "0.6943231441048034\n",
      "0.7200854700854701\n",
      "0.7033898305084746\n",
      "0.6808510638297872\n",
      "0.6813417190775681\n",
      "0.673773987206823\n",
      "0.6736842105263158\n",
      "0.6545842217484008\n",
      "0.6997840172786177\n",
      "0.6494623655913978\n",
      "0.7066381156316917\n",
      "0.6631130063965884\n"
     ]
    }
   ],
   "source": [
    "# configure bootstrap\n",
    "n_iterations = 100              # Number of bootstrap samples to create\n",
    "n_size = int(len(data) * 0.50)    # picking only 50 % of the given data in every bootstrap sample\n",
    "\n",
    "# run bootstrap\n",
    "stats = list()\n",
    "for i in range(n_iterations):\n",
    "    # prepare train and test sets\n",
    "    train = resample(values, n_samples=n_size)  # Sampling with replacement \n",
    "    test = np.array([x for x in values if x.tolist() not in train.tolist()])  # picking rest of the data not considered in sample\n",
    "    # fit model\n",
    "    model = DecisionTreeClassifier()\n",
    "    model.fit(train[:,:-1], train[:,-1])\n",
    "    # evaluate model\n",
    "    predictions = model.predict(test[:,:-1])\n",
    "    score = accuracy_score(test[:,-1], predictions)    # caution, overall accuracy score can mislead when classes are imbalanced\n",
    "    print(score)\n",
    "    stats.append(score)"
   ]
  },
  {
   "cell_type": "code",
   "execution_count": 3,
   "metadata": {},
   "outputs": [
    {
     "data": {
      "image/png": "[encoded data removed]",
      "text/plain": [
       "<Figure size 432x288 with 1 Axes>"
      ]
     },
     "metadata": {
      "needs_background": "light"
     },
     "output_type": "display_data"
    },
    {
     "name": "stdout",
     "output_type": "stream",
     "text": [
      "95.0 confidence interval 64.0% and 73.2%\n"
     ]
    }
   ],
   "source": [
    "# plot scores\n",
    "pyplot.hist(stats)\n",
    "pyplot.show()\n",
    "# confidence intervals\n",
    "alpha = 0.95                             # for 95% confidence \n",
    "p = ((1.0-alpha)/2.0) * 100              # tail regions on right and left .25 on each side indicated by P value (border)\n",
    "lower = max(0.0, np.percentile(stats, p))  \n",
    "p = (alpha+((1.0-alpha)/2.0)) * 100\n",
    "upper = min(1.0, np.percentile(stats, p))\n",
    "print('%.1f confidence interval %.1f%% and %.1f%%' % (alpha*100, lower*100, upper*100))"
   ]
  },
  {
   "cell_type": "code",
   "execution_count": 4,
   "metadata": {},
   "outputs": [],
   "source": [
    "# Interesting here we can start to see the Central Limit Theorem"
   ]
  },
  {
   "cell_type": "code",
   "execution_count": null,
   "metadata": {},
   "outputs": [],
   "source": []
  }
 ],
 "metadata": {
  "kernelspec": {
   "display_name": "Python 3",
   "language": "python",
   "name": "python3"
  },
  "language_info": {
   "codemirror_mode": {
    "name": "ipython",
    "version": 3
   },
   "file_extension": ".py",
   "mimetype": "text/x-python",
   "name": "python",
   "nbconvert_exporter": "python",
   "pygments_lexer": "ipython3",
   "version": "3.7.4"
  }
 },
 "nbformat": 4,
 "nbformat_minor": 2
}
