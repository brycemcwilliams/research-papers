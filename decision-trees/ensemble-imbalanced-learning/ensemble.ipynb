{
 "cells": [
  {
   "cell_type": "code",
   "execution_count": 4,
   "metadata": {},
   "outputs": [
    {
     "ename": "ModuleNotFoundError",
     "evalue": "No module named 'xgboost'",
     "output_type": "error",
     "traceback": [
      "\u001b[0;31m---------------------------------------------------------------------------\u001b[0m",
      "\u001b[0;31mModuleNotFoundError\u001b[0m                       Traceback (most recent call last)",
      "\u001b[0;32m<ipython-input-4-e926eebee47f>\u001b[0m in \u001b[0;36m<module>\u001b[0;34m\u001b[0m\n\u001b[1;32m     22\u001b[0m \u001b[0;32mfrom\u001b[0m \u001b[0msklearn\u001b[0m\u001b[0;34m.\u001b[0m\u001b[0mensemble\u001b[0m                \u001b[0;32mimport\u001b[0m \u001b[0mRandomForestClassifier\u001b[0m\u001b[0;34m\u001b[0m\u001b[0;34m\u001b[0m\u001b[0m\n\u001b[1;32m     23\u001b[0m \u001b[0;32mfrom\u001b[0m \u001b[0msklearn\u001b[0m\u001b[0;34m.\u001b[0m\u001b[0mdecomposition\u001b[0m           \u001b[0;32mimport\u001b[0m \u001b[0mPCA\u001b[0m\u001b[0;34m\u001b[0m\u001b[0;34m\u001b[0m\u001b[0m\n\u001b[0;32m---> 24\u001b[0;31m \u001b[0;32mfrom\u001b[0m \u001b[0mxgboost\u001b[0m                         \u001b[0;32mimport\u001b[0m \u001b[0mXGBClassifier\u001b[0m\u001b[0;34m\u001b[0m\u001b[0;34m\u001b[0m\u001b[0m\n\u001b[0m\u001b[1;32m     25\u001b[0m \u001b[0;32mfrom\u001b[0m \u001b[0msklearn\u001b[0m\u001b[0;34m.\u001b[0m\u001b[0mlinear_model\u001b[0m            \u001b[0;32mimport\u001b[0m \u001b[0mLogisticRegression\u001b[0m\u001b[0;34m\u001b[0m\u001b[0;34m\u001b[0m\u001b[0m\n\u001b[1;32m     26\u001b[0m \u001b[0;32mfrom\u001b[0m \u001b[0mlightgbm\u001b[0m                        \u001b[0;32mimport\u001b[0m \u001b[0mLGBMClassifier\u001b[0m\u001b[0;34m\u001b[0m\u001b[0;34m\u001b[0m\u001b[0m\n",
      "\u001b[0;31mModuleNotFoundError\u001b[0m: No module named 'xgboost'"
     ]
    }
   ],
   "source": [
    "\"\"\"\n",
    "auth: Bryce R. Mc Williams\n",
    "desc: a template for quick learning insights when you do not need to understand variables\n",
    "\"\"\"\n",
    "\n",
    "import warnings\n",
    "warnings.filterwarnings('ignore')\n",
    "\n",
    "import pandas                        as pd\n",
    "import numpy                         as np\n",
    "import matplotlib.pyplot             as plt\n",
    "%matplotlib inline\n",
    "import seaborn                       as sns\n",
    "\n",
    "from sklearn                         import preprocessing\n",
    "from sklearn.preprocessing           import normalize,StandardScaler,label\n",
    "from sklearn.model_selection         import train_test_split,GridSearchCV,RandomizedSearchCV\n",
    "from sklearn.metrics                 import *\n",
    "\n",
    "# ML Libraries\n",
    "\n",
    "from sklearn.ensemble                import RandomForestClassifier\n",
    "from sklearn.decomposition           import PCA\n",
    "from xgboost                         import XGBClassifier\n",
    "from sklearn.linear_model            import LogisticRegression\n",
    "from lightgbm                        import LGBMClassifier\n",
    "from sklearn.tree                    import DecisionTreeClassifier\n",
    "from sklearn.neighbors               import KNeighborsClassifier\n",
    "\n",
    "# Dataset\n",
    "\n",
    "from sklearn                         import datasets"
   ]
  },
  {
   "cell_type": "code",
   "execution_count": null,
   "metadata": {},
   "outputs": [],
   "source": [
    "breast_cancer = datasets.load_breast_cancer()\n",
    "X = breast_cancer.data\n",
    "y = breast_cancer.target"
   ]
  },
  {
   "cell_type": "code",
   "execution_count": 3,
   "metadata": {},
   "outputs": [
    {
     "name": "stdout",
     "output_type": "stream",
     "text": [
      "      0      1       2       3        4        5       6        7       8   \\\n",
      "0  17.99  10.38  122.80  1001.0  0.11840  0.27760  0.3001  0.14710  0.2419   \n",
      "1  20.57  17.77  132.90  1326.0  0.08474  0.07864  0.0869  0.07017  0.1812   \n",
      "2  19.69  21.25  130.00  1203.0  0.10960  0.15990  0.1974  0.12790  0.2069   \n",
      "3  11.42  20.38   77.58   386.1  0.14250  0.28390  0.2414  0.10520  0.2597   \n",
      "4  20.29  14.34  135.10  1297.0  0.10030  0.13280  0.1980  0.10430  0.1809   \n",
      "\n",
      "        9   ...     20     21      22      23      24      25      26      27  \\\n",
      "0  0.07871  ...  25.38  17.33  184.60  2019.0  0.1622  0.6656  0.7119  0.2654   \n",
      "1  0.05667  ...  24.99  23.41  158.80  1956.0  0.1238  0.1866  0.2416  0.1860   \n",
      "2  0.05999  ...  23.57  25.53  152.50  1709.0  0.1444  0.4245  0.4504  0.2430   \n",
      "3  0.09744  ...  14.91  26.50   98.87   567.7  0.2098  0.8663  0.6869  0.2575   \n",
      "4  0.05883  ...  22.54  16.67  152.20  1575.0  0.1374  0.2050  0.4000  0.1625   \n",
      "\n",
      "       28       29  \n",
      "0  0.4601  0.11890  \n",
      "1  0.2750  0.08902  \n",
      "2  0.3613  0.08758  \n",
      "3  0.6638  0.17300  \n",
      "4  0.2364  0.07678  \n",
      "\n",
      "[5 rows x 30 columns]\n",
      "   0\n",
      "0  0\n",
      "1  0\n",
      "2  0\n",
      "3  0\n",
      "4  0\n"
     ]
    }
   ],
   "source": [
    "df_X  = pd.DataFrame(X)\n",
    "df_y = pd.DataFrame(y)\n",
    "print(df_X.head())\n",
    "print(df_y.head())"
   ]
  },
  {
   "cell_type": "code",
   "execution_count": 4,
   "metadata": {},
   "outputs": [
    {
     "data": {
      "text/plain": [
       "0     0\n",
       "1     0\n",
       "2     0\n",
       "3     0\n",
       "4     0\n",
       "5     0\n",
       "6     0\n",
       "7     0\n",
       "8     0\n",
       "9     0\n",
       "10    0\n",
       "11    0\n",
       "12    0\n",
       "13    0\n",
       "14    0\n",
       "15    0\n",
       "16    0\n",
       "17    0\n",
       "18    0\n",
       "19    0\n",
       "20    0\n",
       "21    0\n",
       "22    0\n",
       "23    0\n",
       "24    0\n",
       "25    0\n",
       "26    0\n",
       "27    0\n",
       "28    0\n",
       "29    0\n",
       "dtype: int64"
      ]
     },
     "execution_count": 4,
     "metadata": {},
     "output_type": "execute_result"
    }
   ],
   "source": [
    "df_X.isnull().sum()"
   ]
  },
  {
   "cell_type": "code",
   "execution_count": 5,
   "metadata": {},
   "outputs": [],
   "source": [
    "X_train, X_test, y_train, y_test = train_test_split(df_X, df_y, test_size=0.30, random_state=7,shuffle=True, stratify=df_y)"
   ]
  },
  {
   "cell_type": "code",
   "execution_count": 6,
   "metadata": {},
   "outputs": [
    {
     "name": "stdout",
     "output_type": "stream",
     "text": [
      "        0      1       2      3        4        5         6         7   \\\n",
      "232  11.22  33.81   70.79  386.8  0.07780  0.03574  0.004967  0.006434   \n",
      "99   14.42  19.77   94.48  642.5  0.09752  0.11410  0.093880  0.058390   \n",
      "544  13.87  20.70   89.77  584.8  0.09578  0.10180  0.036880  0.023690   \n",
      "133  15.71  13.93  102.00  761.7  0.09462  0.09462  0.071350  0.059330   \n",
      "394  12.10  17.72   78.07  446.2  0.10290  0.09758  0.047830  0.033260   \n",
      "..     ...    ...     ...    ...      ...      ...       ...       ...   \n",
      "306  13.20  15.82   84.07  537.3  0.08511  0.05251  0.001461  0.003261   \n",
      "203  13.81  23.75   91.56  597.8  0.13230  0.17680  0.155800  0.091760   \n",
      "297  11.76  18.14   75.00  431.1  0.09968  0.05914  0.026850  0.035150   \n",
      "322  12.86  13.32   82.82  504.8  0.11340  0.08834  0.038000  0.034000   \n",
      "296  10.91  12.35   69.14  363.7  0.08518  0.04721  0.012360  0.013690   \n",
      "\n",
      "         8        9   ...     20     21      22      23       24       25  \\\n",
      "232  0.1845  0.05828  ...  12.36  41.78   78.44   470.9  0.09994  0.06885   \n",
      "99   0.1879  0.06390  ...  16.33  30.86  109.50   826.4  0.14310  0.30260   \n",
      "544  0.1620  0.06688  ...  15.05  24.75   99.17   688.6  0.12640  0.20370   \n",
      "133  0.1816  0.05723  ...  17.50  19.25  114.30   922.8  0.12230  0.19490   \n",
      "394  0.1937  0.06161  ...  13.56  25.80   88.33   559.5  0.14320  0.17730   \n",
      "..      ...      ...  ...    ...    ...     ...     ...      ...      ...   \n",
      "306  0.1632  0.05894  ...  14.41  20.45   92.00   636.9  0.11280  0.13460   \n",
      "203  0.2251  0.07421  ...  19.20  41.85  128.50  1153.0  0.22260  0.52090   \n",
      "297  0.1619  0.06287  ...  13.36  23.39   85.10   553.6  0.11370  0.07974   \n",
      "322  0.1543  0.06476  ...  14.04  21.08   92.80   599.5  0.15470  0.22310   \n",
      "296  0.1449  0.06031  ...  11.37  14.82   72.42   392.2  0.09312  0.07506   \n",
      "\n",
      "          26       27      28       29  \n",
      "232  0.02318  0.03002  0.2911  0.07307  \n",
      "99   0.31940  0.15650  0.2718  0.09353  \n",
      "544  0.13770  0.06845  0.2249  0.08492  \n",
      "133  0.17090  0.13740  0.2723  0.07071  \n",
      "394  0.16030  0.06266  0.3049  0.07081  \n",
      "..       ...      ...     ...      ...  \n",
      "306  0.01120  0.02500  0.2651  0.08385  \n",
      "203  0.46460  0.20130  0.4432  0.10860  \n",
      "297  0.06120  0.07160  0.1978  0.06915  \n",
      "322  0.17910  0.11550  0.2382  0.08553  \n",
      "296  0.02884  0.03194  0.2143  0.06643  \n",
      "\n",
      "[398 rows x 30 columns]\n",
      "\n",
      "        0      1       2       3        4        5         6         7   \\\n",
      "245  10.48  19.86   66.72   337.7  0.10700  0.05971  0.048310  0.030700   \n",
      "450  11.87  21.54   76.83   432.0  0.06613  0.10640  0.087770  0.023860   \n",
      "48   12.05  14.63   78.04   449.3  0.10310  0.09092  0.065920  0.027490   \n",
      "36   14.25  21.72   93.63   633.0  0.09823  0.10980  0.131900  0.055980   \n",
      "564  21.56  22.39  142.00  1479.0  0.11100  0.11590  0.243900  0.138900   \n",
      "..     ...    ...     ...     ...      ...      ...       ...       ...   \n",
      "327  12.03  17.93   76.09   446.0  0.07683  0.03892  0.001546  0.005592   \n",
      "413  14.99  22.11   97.53   693.7  0.08515  0.10250  0.068590  0.038760   \n",
      "499  20.59  21.24  137.80  1320.0  0.10850  0.16440  0.218800  0.112100   \n",
      "42   19.07  24.81  128.30  1104.0  0.09081  0.21900  0.210700  0.099610   \n",
      "380  11.27  12.96   73.16   386.3  0.12370  0.11110  0.079000  0.055500   \n",
      "\n",
      "         8        9   ...     20     21      22      23       24      25  \\\n",
      "245  0.1737  0.06440  ...  11.48  29.46   73.68   402.8  0.15150  0.1026   \n",
      "450  0.1349  0.06612  ...  12.79  28.18   83.51   507.2  0.09457  0.3399   \n",
      "48   0.1675  0.06043  ...  13.76  20.70   89.88   582.6  0.14940  0.2156   \n",
      "36   0.1885  0.06125  ...  15.89  30.36  116.20   799.6  0.14460  0.4238   \n",
      "564  0.1726  0.05623  ...  25.45  26.40  166.10  2027.0  0.14100  0.2113   \n",
      "..      ...      ...  ...    ...    ...     ...     ...      ...     ...   \n",
      "327  0.1382  0.06070  ...  13.07  22.25   82.74   523.4  0.10130  0.0739   \n",
      "413  0.1944  0.05913  ...  16.76  31.55  110.20   867.1  0.10770  0.3345   \n",
      "499  0.1848  0.06222  ...  23.86  30.76  163.20  1760.0  0.14640  0.3597   \n",
      "42   0.2310  0.06343  ...  24.09  33.17  177.40  1651.0  0.12470  0.7444   \n",
      "380  0.2018  0.06914  ...  12.84  20.53   84.93   476.1  0.16100  0.2429   \n",
      "\n",
      "           26       27      28       29  \n",
      "245  0.118100  0.06736  0.2883  0.07748  \n",
      "450  0.321800  0.08750  0.2305  0.09952  \n",
      "48   0.305000  0.06548  0.2747  0.08301  \n",
      "36   0.518600  0.14470  0.3591  0.10140  \n",
      "564  0.410700  0.22160  0.2060  0.07115  \n",
      "..        ...      ...     ...      ...  \n",
      "327  0.007732  0.02796  0.2171  0.07037  \n",
      "413  0.311400  0.13080  0.3163  0.09251  \n",
      "499  0.517900  0.21130  0.2480  0.08999  \n",
      "42   0.724200  0.24930  0.4670  0.10380  \n",
      "380  0.224700  0.13180  0.3343  0.09215  \n",
      "\n",
      "[171 rows x 30 columns]\n",
      "\n",
      "     0\n",
      "232  1\n",
      "99   0\n",
      "544  1\n",
      "133  1\n",
      "394  1\n",
      "..  ..\n",
      "306  1\n",
      "203  0\n",
      "297  0\n",
      "322  1\n",
      "296  1\n",
      "\n",
      "[398 rows x 1 columns]\n",
      "\n",
      "     0\n",
      "245  1\n",
      "450  1\n",
      "48   1\n",
      "36   0\n",
      "564  0\n",
      "..  ..\n",
      "327  1\n",
      "413  1\n",
      "499  0\n",
      "42   0\n",
      "380  1\n",
      "\n",
      "[171 rows x 1 columns]\n"
     ]
    }
   ],
   "source": [
    "print(X_train)\n",
    "print()\n",
    "print(X_test)\n",
    "print()\n",
    "print(y_train)\n",
    "print()\n",
    "print(y_test)"
   ]
  },
  {
   "cell_type": "code",
   "execution_count": 7,
   "metadata": {},
   "outputs": [],
   "source": [
    "# listing out the different ML Algorithms\n",
    "models = []\n",
    "models.append(('Random Forest with Entropy', RandomForestClassifier(criterion= \"entropy\", random_state= 111)))\n",
    "models.append(('Random Forest with gini', RandomForestClassifier(criterion= \"gini\", random_state= 111)))\n",
    "models.append(('XGBoost', XGBClassifier()))\n",
    "models.append(('LGBM', LGBMClassifier()))\n",
    "models.append(('DecisionTree with entropy', DecisionTreeClassifier(criterion= \"entropy\", random_state= 101)))\n",
    "models.append(('DecisionTree with gini', DecisionTreeClassifier(criterion= \"gini\", random_state= 101)))\n",
    "models.append(('Logistic Regression', LogisticRegression(random_state= 7)))\n",
    "models.append(('KNN', KNeighborsClassifier(n_neighbors=10)))"
   ]
  },
  {
   "cell_type": "code",
   "execution_count": 8,
   "metadata": {},
   "outputs": [],
   "source": [
    "# Predefined ROC Plot Function\n",
    "def roc_plot(fpr, tpr):\n",
    "    plt.figure()\n",
    "    lw = 2\n",
    "    plt.plot(fpr, tpr, color='darkorange',\n",
    "             lw=lw, label='ROC curve (area = %0.2f)' % auc(fpr, tpr))\n",
    "    plt.plot([0, 1], [0, 1], color='navy', lw=lw, linestyle='--')\n",
    "    plt.xlabel('False Positive Rate')\n",
    "    plt.ylabel('True Positive Rate')\n",
    "    plt.title('Receiver operating characteristic')\n",
    "    plt.legend(loc=\"lower right\")\n",
    "    return (plt.show())"
   ]
  },
  {
   "cell_type": "code",
   "execution_count": 1,
   "metadata": {},
   "outputs": [],
   "source": [
    "# Checking with Multiple accuracy metrics and check for Overfitting\n",
    "def all_models():\n",
    "    model_list = pd.DataFrame(columns=(\"Model\",\"Accuracy\",\"F1Score\",\"AUC\"))\n",
    "    rownumber = 0\n",
    "    for name, model in models:\n",
    "        print(name)\n",
    "        classifier = model\n",
    "        classifier.fit(X_train, y_train)\n",
    "        # prediction\n",
    "        Y_predict = classifier.predict(X_test)\n",
    "        fpr, tpr, thresholds = roc_curve(y_test, Y_predict, pos_label=None)\n",
    "        print(fpr)\n",
    "        print(tpr)\n",
    "        roc_plot(fpr, tpr)\n",
    "        model_list.loc[rownumber,\"Model\"]= name\n",
    "        model_list.loc[rownumber,\"Accuracy\"] = round(((accuracy_score(y_test,Y_predict))*100))\n",
    "        model_list.loc[rownumber,\"F1Score\"]= round((f1_score(y_test,Y_predict)),2)\n",
    "        model_list.loc[rownumber,\"AUC\"]= round((roc_auc_score(y_test,Y_predict)),2)\n",
    "        Y_pt = classifier.predict(X_train)\n",
    "        model_list.loc[rownumber,\"Accuracy_Train\"] = round(((accuracy_score(y_train,Y_pt))*100))\n",
    "        model_list.loc[rownumber,\"F1Score_Train\"]= round((f1_score(y_train,Y_pt)),2)\n",
    "        model_list.loc[rownumber,\"AUC_Train\"]= round((roc_auc_score(y_train,Y_pt)),2)\n",
    "        rownumber += 1\n",
    "    return (model_list.sort_values(by=\"AUC\",ascending=False))"
   ]
  },
  {
   "cell_type": "code",
   "execution_count": 2,
   "metadata": {},
   "outputs": [
    {
     "ename": "NameError",
     "evalue": "name 'pd' is not defined",
     "output_type": "error",
     "traceback": [
      "\u001b[0;31m---------------------------------------------------------------------------\u001b[0m",
      "\u001b[0;31mNameError\u001b[0m                                 Traceback (most recent call last)",
      "\u001b[0;32m<ipython-input-2-6f8d424fa1ab>\u001b[0m in \u001b[0;36m<module>\u001b[0;34m\u001b[0m\n\u001b[1;32m      1\u001b[0m \u001b[0;31m# Check for any overfitting\u001b[0m\u001b[0;34m\u001b[0m\u001b[0;34m\u001b[0m\u001b[0;34m\u001b[0m\u001b[0m\n\u001b[0;32m----> 2\u001b[0;31m \u001b[0mprint\u001b[0m \u001b[0;34m(\u001b[0m\u001b[0mall_models\u001b[0m\u001b[0;34m(\u001b[0m\u001b[0;34m)\u001b[0m\u001b[0;34m)\u001b[0m\u001b[0;34m\u001b[0m\u001b[0;34m\u001b[0m\u001b[0m\n\u001b[0m",
      "\u001b[0;32m<ipython-input-1-17a53a3dfe0d>\u001b[0m in \u001b[0;36mall_models\u001b[0;34m()\u001b[0m\n\u001b[1;32m      1\u001b[0m \u001b[0;31m# Checking with Multiple accuracy metrics and check for Overfitting\u001b[0m\u001b[0;34m\u001b[0m\u001b[0;34m\u001b[0m\u001b[0;34m\u001b[0m\u001b[0m\n\u001b[1;32m      2\u001b[0m \u001b[0;32mdef\u001b[0m \u001b[0mall_models\u001b[0m\u001b[0;34m(\u001b[0m\u001b[0;34m)\u001b[0m\u001b[0;34m:\u001b[0m\u001b[0;34m\u001b[0m\u001b[0;34m\u001b[0m\u001b[0m\n\u001b[0;32m----> 3\u001b[0;31m     \u001b[0mmodel_list\u001b[0m \u001b[0;34m=\u001b[0m \u001b[0mpd\u001b[0m\u001b[0;34m.\u001b[0m\u001b[0mDataFrame\u001b[0m\u001b[0;34m(\u001b[0m\u001b[0mcolumns\u001b[0m\u001b[0;34m=\u001b[0m\u001b[0;34m(\u001b[0m\u001b[0;34m\"Model\"\u001b[0m\u001b[0;34m,\u001b[0m\u001b[0;34m\"Accuracy\"\u001b[0m\u001b[0;34m,\u001b[0m\u001b[0;34m\"F1Score\"\u001b[0m\u001b[0;34m,\u001b[0m\u001b[0;34m\"AUC\"\u001b[0m\u001b[0;34m)\u001b[0m\u001b[0;34m)\u001b[0m\u001b[0;34m\u001b[0m\u001b[0;34m\u001b[0m\u001b[0m\n\u001b[0m\u001b[1;32m      4\u001b[0m     \u001b[0mrownumber\u001b[0m \u001b[0;34m=\u001b[0m \u001b[0;36m0\u001b[0m\u001b[0;34m\u001b[0m\u001b[0;34m\u001b[0m\u001b[0m\n\u001b[1;32m      5\u001b[0m     \u001b[0;32mfor\u001b[0m \u001b[0mname\u001b[0m\u001b[0;34m,\u001b[0m \u001b[0mmodel\u001b[0m \u001b[0;32min\u001b[0m \u001b[0mmodels\u001b[0m\u001b[0;34m:\u001b[0m\u001b[0;34m\u001b[0m\u001b[0;34m\u001b[0m\u001b[0m\n",
      "\u001b[0;31mNameError\u001b[0m: name 'pd' is not defined"
     ]
    }
   ],
   "source": [
    "# Check for any overfitting\n",
    "print (all_models())"
   ]
  },
  {
   "cell_type": "code",
   "execution_count": null,
   "metadata": {},
   "outputs": [],
   "source": []
  }
 ],
 "metadata": {
  "kernelspec": {
   "display_name": "Python 3",
   "language": "python",
   "name": "python3"
  },
  "language_info": {
   "codemirror_mode": {
    "name": "ipython",
    "version": 3
   },
   "file_extension": ".py",
   "mimetype": "text/x-python",
   "name": "python",
   "nbconvert_exporter": "python",
   "pygments_lexer": "ipython3",
   "version": "3.7.4"
  }
 },
 "nbformat": 4,
 "nbformat_minor": 4
}
